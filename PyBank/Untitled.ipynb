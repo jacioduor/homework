{
 "cells": [
  {
   "cell_type": "code",
   "execution_count": 1,
   "metadata": {},
   "outputs": [
    {
     "ename": "SyntaxError",
     "evalue": "invalid character in identifier (<ipython-input-1-8612d8f7a371>, line 6)",
     "output_type": "error",
     "traceback": [
      "\u001b[1;36m  File \u001b[1;32m\"<ipython-input-1-8612d8f7a371>\"\u001b[1;36m, line \u001b[1;32m6\u001b[0m\n\u001b[1;33m    csvpath = Path(‘Resources/budget_data.csv’)\u001b[0m\n\u001b[1;37m                            ^\u001b[0m\n\u001b[1;31mSyntaxError\u001b[0m\u001b[1;31m:\u001b[0m invalid character in identifier\n"
     ]
    }
   ],
   "source": [
    "# Import the pathlib and csv library\n",
    "from pathlib import Path\n",
    "import csv\n",
    "import os\n",
    "# Set the file path\n",
    "csvpath = Path(‘Resources/budget_data.csv’)\n",
    "# Initialize list of records\n",
    "records = []\n",
    "numMonths = 0\n",
    "profit_total = 0\n",
    "maxMonthlyProfitability = None\n",
    "minMonthlyProfitability = None\n",
    "# Open the csv file as an object\n",
    "with open(csvpath, ‘r’) as csvfile:\n",
    "    # Pass in the csv file to the csv.reader() function\n",
    "    # (with ‘,’ as the delmiter/separator) and return the csvreader object\n",
    "    csvreader = csv.reader(csvfile, delimiter=‘,’)\n",
    "    csv_header = next(csvreader)\n",
    "    # Read each row of data after the header\n",
    "    for row in csvreader:\n",
    "        print(row)\n",
    "        # Count number of Months\n",
    "        numMonths += 1\n",
    "        # Calculate Profit/Loss\n",
    "        monthlyProfitloss = int(row[1])\n",
    "        profit_total += monthlyProfitloss\n",
    "        # Average Profit/Loss:\n",
    "        average = round(profit_total / numMonths, 2)\n",
    "# Print Financial Analysis\n",
    "print(numMonths)\n",
    "print(profit_total)\n",
    "print(average)"
   ]
  },
  {
   "cell_type": "code",
   "execution_count": null,
   "metadata": {},
   "outputs": [],
   "source": []
  }
 ],
 "metadata": {
  "kernelspec": {
   "display_name": "Python 3",
   "language": "python",
   "name": "python3"
  },
  "language_info": {
   "codemirror_mode": {
    "name": "ipython",
    "version": 3
   },
   "file_extension": ".py",
   "mimetype": "text/x-python",
   "name": "python",
   "nbconvert_exporter": "python",
   "pygments_lexer": "ipython3",
   "version": "3.8.3"
  }
 },
 "nbformat": 4,
 "nbformat_minor": 4
}
